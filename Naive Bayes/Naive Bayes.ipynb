{
 "cells": [
  {
   "cell_type": "markdown",
   "id": "65444afd",
   "metadata": {},
   "source": [
    "## Libraries"
   ]
  },
  {
   "cell_type": "code",
   "execution_count": 1,
   "id": "1a79a9c8",
   "metadata": {},
   "outputs": [],
   "source": [
    "import numpy as np\n",
    "import matplotlib.pyplot as plt\n",
    "import pandas as pd"
   ]
  },
  {
   "cell_type": "markdown",
   "id": "a09fa4e0",
   "metadata": {},
   "source": [
    "## Dataset"
   ]
  },
  {
   "cell_type": "code",
   "execution_count": 2,
   "id": "bcb7de1f",
   "metadata": {},
   "outputs": [],
   "source": [
    "dataset = pd.read_csv('crop_yield.csv')"
   ]
  },
  {
   "cell_type": "code",
   "execution_count": 3,
   "id": "41923a87",
   "metadata": {
    "scrolled": true
   },
   "outputs": [
    {
     "name": "stdout",
     "output_type": "stream",
     "text": [
      "<class 'pandas.core.frame.DataFrame'>\n",
      "RangeIndex: 19689 entries, 0 to 19688\n",
      "Data columns (total 10 columns):\n",
      " #   Column           Non-Null Count  Dtype  \n",
      "---  ------           --------------  -----  \n",
      " 0   Crop             19689 non-null  object \n",
      " 1   Crop_Year        19689 non-null  int64  \n",
      " 2   Season           19689 non-null  object \n",
      " 3   State            19689 non-null  object \n",
      " 4   Area             19689 non-null  float64\n",
      " 5   Production       19689 non-null  int64  \n",
      " 6   Annual_Rainfall  19689 non-null  float64\n",
      " 7   Fertilizer       19689 non-null  float64\n",
      " 8   Pesticide        19689 non-null  float64\n",
      " 9   Yield            19689 non-null  float64\n",
      "dtypes: float64(5), int64(2), object(3)\n",
      "memory usage: 1.5+ MB\n"
     ]
    }
   ],
   "source": [
    "dataset.info()"
   ]
  },
  {
   "cell_type": "code",
   "execution_count": 4,
   "id": "d6927c4c",
   "metadata": {},
   "outputs": [],
   "source": [
    "to_drop = ['Crop','Season','State']\n",
    "dataset.drop(to_drop, inplace=True, axis=1)"
   ]
  },
  {
   "cell_type": "code",
   "execution_count": 5,
   "id": "7e79e6a6",
   "metadata": {},
   "outputs": [
    {
     "data": {
      "text/html": [
       "<div>\n",
       "<style scoped>\n",
       "    .dataframe tbody tr th:only-of-type {\n",
       "        vertical-align: middle;\n",
       "    }\n",
       "\n",
       "    .dataframe tbody tr th {\n",
       "        vertical-align: top;\n",
       "    }\n",
       "\n",
       "    .dataframe thead th {\n",
       "        text-align: right;\n",
       "    }\n",
       "</style>\n",
       "<table border=\"1\" class=\"dataframe\">\n",
       "  <thead>\n",
       "    <tr style=\"text-align: right;\">\n",
       "      <th></th>\n",
       "      <th>Crop_Year</th>\n",
       "      <th>Area</th>\n",
       "      <th>Production</th>\n",
       "      <th>Annual_Rainfall</th>\n",
       "      <th>Fertilizer</th>\n",
       "      <th>Pesticide</th>\n",
       "      <th>Yield</th>\n",
       "    </tr>\n",
       "  </thead>\n",
       "  <tbody>\n",
       "    <tr>\n",
       "      <th>0</th>\n",
       "      <td>1997</td>\n",
       "      <td>8801</td>\n",
       "      <td>56708</td>\n",
       "      <td>473</td>\n",
       "      <td>12858</td>\n",
       "      <td>12858</td>\n",
       "      <td>4190</td>\n",
       "    </tr>\n",
       "    <tr>\n",
       "      <th>1</th>\n",
       "      <td>1997</td>\n",
       "      <td>3730</td>\n",
       "      <td>4685</td>\n",
       "      <td>473</td>\n",
       "      <td>6969</td>\n",
       "      <td>6969</td>\n",
       "      <td>3655</td>\n",
       "    </tr>\n",
       "    <tr>\n",
       "      <th>2</th>\n",
       "      <td>1997</td>\n",
       "      <td>772</td>\n",
       "      <td>22</td>\n",
       "      <td>473</td>\n",
       "      <td>2478</td>\n",
       "      <td>2478</td>\n",
       "      <td>564</td>\n",
       "    </tr>\n",
       "    <tr>\n",
       "      <th>3</th>\n",
       "      <td>1997</td>\n",
       "      <td>6105</td>\n",
       "      <td>126905000</td>\n",
       "      <td>473</td>\n",
       "      <td>9861</td>\n",
       "      <td>9861</td>\n",
       "      <td>13413</td>\n",
       "    </tr>\n",
       "    <tr>\n",
       "      <th>4</th>\n",
       "      <td>1997</td>\n",
       "      <td>1517</td>\n",
       "      <td>794</td>\n",
       "      <td>473</td>\n",
       "      <td>3847</td>\n",
       "      <td>3847</td>\n",
       "      <td>1711</td>\n",
       "    </tr>\n",
       "    <tr>\n",
       "      <th>...</th>\n",
       "      <td>...</td>\n",
       "      <td>...</td>\n",
       "      <td>...</td>\n",
       "      <td>...</td>\n",
       "      <td>...</td>\n",
       "      <td>...</td>\n",
       "      <td>...</td>\n",
       "    </tr>\n",
       "    <tr>\n",
       "      <th>19684</th>\n",
       "      <td>1998</td>\n",
       "      <td>2756</td>\n",
       "      <td>2000</td>\n",
       "      <td>376</td>\n",
       "      <td>5767</td>\n",
       "      <td>5767</td>\n",
       "      <td>2200</td>\n",
       "    </tr>\n",
       "    <tr>\n",
       "      <th>19685</th>\n",
       "      <td>1998</td>\n",
       "      <td>950</td>\n",
       "      <td>3000</td>\n",
       "      <td>376</td>\n",
       "      <td>2891</td>\n",
       "      <td>2891</td>\n",
       "      <td>9774</td>\n",
       "    </tr>\n",
       "    <tr>\n",
       "      <th>19686</th>\n",
       "      <td>1997</td>\n",
       "      <td>11450</td>\n",
       "      <td>440900</td>\n",
       "      <td>335</td>\n",
       "      <td>15810</td>\n",
       "      <td>15810</td>\n",
       "      <td>6571</td>\n",
       "    </tr>\n",
       "    <tr>\n",
       "      <th>19687</th>\n",
       "      <td>1997</td>\n",
       "      <td>11243</td>\n",
       "      <td>5488</td>\n",
       "      <td>335</td>\n",
       "      <td>15609</td>\n",
       "      <td>15609</td>\n",
       "      <td>2</td>\n",
       "    </tr>\n",
       "    <tr>\n",
       "      <th>19688</th>\n",
       "      <td>1997</td>\n",
       "      <td>10978</td>\n",
       "      <td>392160</td>\n",
       "      <td>335</td>\n",
       "      <td>15369</td>\n",
       "      <td>15369</td>\n",
       "      <td>6497</td>\n",
       "    </tr>\n",
       "  </tbody>\n",
       "</table>\n",
       "<p>19689 rows × 7 columns</p>\n",
       "</div>"
      ],
      "text/plain": [
       "       Crop_Year   Area  Production  Annual_Rainfall  Fertilizer  Pesticide  \\\n",
       "0           1997   8801       56708              473       12858      12858   \n",
       "1           1997   3730        4685              473        6969       6969   \n",
       "2           1997    772          22              473        2478       2478   \n",
       "3           1997   6105   126905000              473        9861       9861   \n",
       "4           1997   1517         794              473        3847       3847   \n",
       "...          ...    ...         ...              ...         ...        ...   \n",
       "19684       1998   2756        2000              376        5767       5767   \n",
       "19685       1998    950        3000              376        2891       2891   \n",
       "19686       1997  11450      440900              335       15810      15810   \n",
       "19687       1997  11243        5488              335       15609      15609   \n",
       "19688       1997  10978      392160              335       15369      15369   \n",
       "\n",
       "       Yield  \n",
       "0       4190  \n",
       "1       3655  \n",
       "2        564  \n",
       "3      13413  \n",
       "4       1711  \n",
       "...      ...  \n",
       "19684   2200  \n",
       "19685   9774  \n",
       "19686   6571  \n",
       "19687      2  \n",
       "19688   6497  \n",
       "\n",
       "[19689 rows x 7 columns]"
      ]
     },
     "execution_count": 5,
     "metadata": {},
     "output_type": "execute_result"
    }
   ],
   "source": [
    "from sklearn.preprocessing import LabelEncoder\n",
    "label_encoder = LabelEncoder()\n",
    "dataset['Area'] = label_encoder.fit_transform(dataset['Area'])\n",
    "dataset['Annual_Rainfall'] = label_encoder.fit_transform(dataset['Annual_Rainfall'])\n",
    "dataset['Fertilizer'] = label_encoder.fit_transform(dataset['Fertilizer'])\n",
    "dataset['Pesticide'] = label_encoder.fit_transform(dataset['Fertilizer'])\n",
    "dataset['Yield'] = label_encoder.fit_transform(dataset['Yield'])\n",
    "dataset"
   ]
  },
  {
   "cell_type": "code",
   "execution_count": 6,
   "id": "78a276da",
   "metadata": {
    "scrolled": true
   },
   "outputs": [
    {
     "name": "stdout",
     "output_type": "stream",
     "text": [
      "<class 'pandas.core.frame.DataFrame'>\n",
      "RangeIndex: 19689 entries, 0 to 19688\n",
      "Data columns (total 7 columns):\n",
      " #   Column           Non-Null Count  Dtype\n",
      "---  ------           --------------  -----\n",
      " 0   Crop_Year        19689 non-null  int64\n",
      " 1   Area             19689 non-null  int64\n",
      " 2   Production       19689 non-null  int64\n",
      " 3   Annual_Rainfall  19689 non-null  int64\n",
      " 4   Fertilizer       19689 non-null  int64\n",
      " 5   Pesticide        19689 non-null  int64\n",
      " 6   Yield            19689 non-null  int64\n",
      "dtypes: int64(7)\n",
      "memory usage: 1.1 MB\n"
     ]
    }
   ],
   "source": [
    "dataset.info()"
   ]
  },
  {
   "cell_type": "code",
   "execution_count": 7,
   "id": "35dccbb0",
   "metadata": {},
   "outputs": [],
   "source": [
    "X = dataset.iloc[:, [2,4]].values\n",
    "y = dataset.iloc[:, 0].values"
   ]
  },
  {
   "cell_type": "code",
   "execution_count": 8,
   "id": "b447da69",
   "metadata": {},
   "outputs": [
    {
     "data": {
      "text/plain": [
       "array([1997, 1997, 1997, ..., 1997, 1997, 1997], dtype=int64)"
      ]
     },
     "execution_count": 8,
     "metadata": {},
     "output_type": "execute_result"
    }
   ],
   "source": [
    "y"
   ]
  },
  {
   "cell_type": "code",
   "execution_count": 9,
   "id": "016efcef",
   "metadata": {},
   "outputs": [
    {
     "data": {
      "text/plain": [
       "array([[ 56708,  12858],\n",
       "       [  4685,   6969],\n",
       "       [    22,   2478],\n",
       "       ...,\n",
       "       [440900,  15810],\n",
       "       [  5488,  15609],\n",
       "       [392160,  15369]], dtype=int64)"
      ]
     },
     "execution_count": 9,
     "metadata": {},
     "output_type": "execute_result"
    }
   ],
   "source": [
    "X"
   ]
  },
  {
   "cell_type": "markdown",
   "id": "48117127",
   "metadata": {},
   "source": [
    "## Split Dataset"
   ]
  },
  {
   "cell_type": "code",
   "execution_count": 10,
   "id": "c61c9871",
   "metadata": {},
   "outputs": [],
   "source": [
    "from sklearn.model_selection import train_test_split\n",
    "X_train, X_test, y_train, y_test = train_test_split(X, y, test_size = 0.4, random_state = 0)"
   ]
  },
  {
   "cell_type": "code",
   "execution_count": 11,
   "id": "22076424",
   "metadata": {
    "scrolled": false
   },
   "outputs": [
    {
     "data": {
      "text/plain": [
       "array([[271845,   6223],\n",
       "       [ 29339,   7777],\n",
       "       [  5374,   7848],\n",
       "       ...,\n",
       "       [   206,   1965],\n",
       "       [ 31046,  12093],\n",
       "       [ 18783,   7202]], dtype=int64)"
      ]
     },
     "execution_count": 11,
     "metadata": {},
     "output_type": "execute_result"
    }
   ],
   "source": [
    "X_test"
   ]
  },
  {
   "cell_type": "code",
   "execution_count": 12,
   "id": "b3163ae1",
   "metadata": {
    "scrolled": true
   },
   "outputs": [
    {
     "data": {
      "text/plain": [
       "array([2010, 2015, 1999, ..., 2019, 2018, 2003], dtype=int64)"
      ]
     },
     "execution_count": 12,
     "metadata": {},
     "output_type": "execute_result"
    }
   ],
   "source": [
    "y_test"
   ]
  },
  {
   "cell_type": "markdown",
   "id": "039c3b4d",
   "metadata": {},
   "source": [
    "## Feature Scaling"
   ]
  },
  {
   "cell_type": "code",
   "execution_count": 13,
   "id": "fec3ecb4",
   "metadata": {},
   "outputs": [],
   "source": [
    "from sklearn.preprocessing import StandardScaler\n",
    "sc = StandardScaler()\n",
    "X_train = sc.fit_transform(X_train)\n",
    "X_test = sc.transform(X_test)"
   ]
  },
  {
   "cell_type": "code",
   "execution_count": 14,
   "id": "996db3f7",
   "metadata": {},
   "outputs": [
    {
     "data": {
      "text/plain": [
       "array([[-0.06443568, -1.60769823],\n",
       "       [-0.04714397,  1.71800388],\n",
       "       [-0.06441686, -0.03888177],\n",
       "       ...,\n",
       "       [-0.06440256, -0.38688237],\n",
       "       [-0.06443546, -1.43142876],\n",
       "       [-0.06435506,  0.67509129]])"
      ]
     },
     "execution_count": 14,
     "metadata": {},
     "output_type": "execute_result"
    }
   ],
   "source": [
    "X_train"
   ]
  },
  {
   "cell_type": "code",
   "execution_count": 15,
   "id": "636d684c",
   "metadata": {},
   "outputs": [
    {
     "data": {
      "text/plain": [
       "array([2010, 2015, 1999, ..., 2019, 2018, 2003], dtype=int64)"
      ]
     },
     "execution_count": 15,
     "metadata": {},
     "output_type": "execute_result"
    }
   ],
   "source": [
    "y_test"
   ]
  },
  {
   "cell_type": "markdown",
   "id": "1944a050",
   "metadata": {},
   "source": [
    "## Training Naive Bayes Use Training Set"
   ]
  },
  {
   "cell_type": "code",
   "execution_count": 16,
   "id": "6f7d80ad",
   "metadata": {},
   "outputs": [],
   "source": [
    "from sklearn.naive_bayes import GaussianNB"
   ]
  },
  {
   "cell_type": "code",
   "execution_count": 17,
   "id": "b16fe313",
   "metadata": {
    "scrolled": true
   },
   "outputs": [
    {
     "data": {
      "text/plain": [
       "GaussianNB()"
      ]
     },
     "execution_count": 17,
     "metadata": {},
     "output_type": "execute_result"
    }
   ],
   "source": [
    "#Data harus bernilai int untuk menjalankan Gaussian\n",
    "classifier = GaussianNB()\n",
    "classifier.fit(X_train, y_train)"
   ]
  },
  {
   "cell_type": "markdown",
   "id": "4b1936a6",
   "metadata": {},
   "source": [
    "## Predicting Test"
   ]
  },
  {
   "cell_type": "code",
   "execution_count": 18,
   "id": "713b3688",
   "metadata": {},
   "outputs": [
    {
     "data": {
      "text/plain": [
       "array([2020, 2020, 2020, ..., 2020, 2020, 2020], dtype=int64)"
      ]
     },
     "execution_count": 18,
     "metadata": {},
     "output_type": "execute_result"
    }
   ],
   "source": [
    "y_pred = classifier.predict(X_test)\n",
    "y_pred"
   ]
  },
  {
   "cell_type": "code",
   "execution_count": 19,
   "id": "4973aa3c",
   "metadata": {},
   "outputs": [
    {
     "data": {
      "text/plain": [
       "array([2010, 2015, 1999, ..., 2019, 2018, 2003], dtype=int64)"
      ]
     },
     "execution_count": 19,
     "metadata": {},
     "output_type": "execute_result"
    }
   ],
   "source": [
    "y_test"
   ]
  },
  {
   "cell_type": "markdown",
   "id": "06a9fac8",
   "metadata": {},
   "source": [
    "## Confussion Matrix"
   ]
  },
  {
   "cell_type": "code",
   "execution_count": 20,
   "id": "98472b12",
   "metadata": {},
   "outputs": [
    {
     "name": "stdout",
     "output_type": "stream",
     "text": [
      "[[ 38   0   0   0   0   0   0   0   0   0   0   0   1   0   0   0   0   0\n",
      "    0   1   0   0   0 121]\n",
      " [ 41   0   0   0   0   0   0   0   0   0   0   1   0   0   0   0   0   0\n",
      "    1   1   0   0   0 196]\n",
      " [ 59   0   0   0   0   0   0   0   0   0   0   0   0   0   0   0   0   0\n",
      "    0   0   0   0   0 221]\n",
      " [ 55   0   0   0   0   0   0   0   0   0   0   1   0   0   0   0   0   0\n",
      "    1   1   1   0   0 259]\n",
      " [ 53   0   0   0   0   0   0   0   0   0   0   1   1   0   0   0   0   0\n",
      "    2   1   0   0   0 247]\n",
      " [ 49   0   0   0   0   0   0   0   0   0   0   2   1   0   0   0   0   0\n",
      "    1   0   1   0   0 261]\n",
      " [ 66   0   0   0   0   0   0   0   0   0   0   1   0   0   0   0   0   0\n",
      "    2   0   0   0   0 266]\n",
      " [ 65   0   0   0   0   0   0   0   0   0   0   0   0   0   0   0   0   0\n",
      "    1   1   1   0   0 246]\n",
      " [ 58   0   0   0   0   0   0   0   0   0   0   2   1   0   0   0   0   0\n",
      "    1   1   0   0   0 259]\n",
      " [ 52   0   0   0   0   0   0   0   0   0   0   2   1   0   0   0   0   0\n",
      "    1   1   0   0   0 283]\n",
      " [ 52   0   0   0   0   0   0   0   0   0   0   3   0   0   0   0   0   0\n",
      "    1   0   1   0   0 250]\n",
      " [ 51   0   0   0   0   0   0   0   0   0   0   3   3   0   0   0   0   0\n",
      "    0   0   0   0   0 273]\n",
      " [ 53   0   0   0   0   0   0   0   0   0   0   1   0   0   0   0   0   0\n",
      "    1   1   0   0   0 285]\n",
      " [ 48   0   0   0   0   0   0   0   0   0   0   2   2   0   0   0   0   0\n",
      "    2   1   0   0   0 285]\n",
      " [ 62   0   0   0   0   0   0   0   0   0   0   3   2   0   0   0   0   0\n",
      "    1   0   0   0   0 316]\n",
      " [ 43   0   0   0   0   0   0   0   0   0   0   2   1   0   0   0   0   0\n",
      "    2   0   0   0   0 285]\n",
      " [ 67   0   0   0   0   0   0   0   0   0   0   2   1   0   0   0   0   0\n",
      "    1   0   0   0   0 327]\n",
      " [ 59   0   0   0   0   0   0   0   0   0   0   1   2   0   0   0   0   0\n",
      "    2   0   1   0   0 321]\n",
      " [ 54   0   0   0   0   0   0   0   0   0   0   0   2   0   0   0   0   0\n",
      "    0   0   0   0   0 320]\n",
      " [ 61   0   0   0   0   0   0   0   0   0   0   2   2   0   0   0   0   0\n",
      "    0   1   0   0   0 334]\n",
      " [ 78   0   0   0   0   0   0   0   0   0   0   0   3   0   0   0   0   0\n",
      "    1   1   0   0   0 348]\n",
      " [ 62   0   0   0   0   0   0   0   0   0   0   2   2   0   0   0   0   0\n",
      "    0   1   0   0   0 375]\n",
      " [ 68   0   0   0   0   0   0   0   0   0   0   3   2   0   0   0   0   0\n",
      "    1   0   0   0   0 388]\n",
      " [  2   0   0   0   0   0   0   0   0   0   0   0   0   0   0   0   0   0\n",
      "    0   0   0   0   0  14]]\n"
     ]
    }
   ],
   "source": [
    "from sklearn.metrics import confusion_matrix\n",
    "cm = confusion_matrix(y_test, y_pred)\n",
    "print(cm)"
   ]
  },
  {
   "cell_type": "code",
   "execution_count": 21,
   "id": "4f243b83",
   "metadata": {},
   "outputs": [
    {
     "data": {
      "image/png": "[encoded data removed]",
      "text/plain": [
       "<Figure size 800x500 with 2 Axes>"
      ]
     },
     "metadata": {},
     "output_type": "display_data"
    }
   ],
   "source": [
    "import seaborn as sns\n",
    "import matplotlib.pyplot as plt\n",
    "f, ax = plt.subplots(figsize=(8,5))\n",
    "sns.heatmap(confusion_matrix(y_test, y_pred), annot=True, fmt=\".0f\", ax=ax)\n",
    "plt.xlabel(\"y_pred\")\n",
    "plt.ylabel(\"y_true\")\n",
    "plt.show()"
   ]
  },
  {
   "cell_type": "code",
   "execution_count": 22,
   "id": "be863763",
   "metadata": {
    "scrolled": true
   },
   "outputs": [
    {
     "name": "stdout",
     "output_type": "stream",
     "text": [
      "              precision    recall  f1-score   support\n",
      "\n",
      "        1997       0.03      0.24      0.05       161\n",
      "        1998       0.00      0.00      0.00       240\n",
      "        1999       0.00      0.00      0.00       280\n",
      "        2000       0.00      0.00      0.00       318\n",
      "        2001       0.00      0.00      0.00       305\n",
      "        2002       0.00      0.00      0.00       315\n",
      "        2003       0.00      0.00      0.00       335\n",
      "        2004       0.00      0.00      0.00       314\n",
      "        2005       0.00      0.00      0.00       322\n",
      "        2006       0.00      0.00      0.00       340\n",
      "        2007       0.00      0.00      0.00       307\n",
      "        2008       0.09      0.01      0.02       330\n",
      "        2009       0.00      0.00      0.00       341\n",
      "        2010       0.00      0.00      0.00       340\n",
      "        2011       0.00      0.00      0.00       384\n",
      "        2012       0.00      0.00      0.00       333\n",
      "        2013       0.00      0.00      0.00       398\n",
      "        2014       0.00      0.00      0.00       386\n",
      "        2015       0.00      0.00      0.00       376\n",
      "        2016       0.08      0.00      0.00       400\n",
      "        2017       0.00      0.00      0.00       431\n",
      "        2018       0.00      0.00      0.00       442\n",
      "        2019       0.00      0.00      0.00       462\n",
      "        2020       0.00      0.88      0.00        16\n",
      "\n",
      "    accuracy                           0.01      7876\n",
      "   macro avg       0.01      0.05      0.00      7876\n",
      "weighted avg       0.01      0.01      0.00      7876\n",
      "\n"
     ]
    },
    {
     "name": "stderr",
     "output_type": "stream",
     "text": [
      "C:\\Users\\user\\anaconda3\\lib\\site-packages\\sklearn\\metrics\\_classification.py:1318: UndefinedMetricWarning: Precision and F-score are ill-defined and being set to 0.0 in labels with no predicted samples. Use `zero_division` parameter to control this behavior.\n",
      "  _warn_prf(average, modifier, msg_start, len(result))\n",
      "C:\\Users\\user\\anaconda3\\lib\\site-packages\\sklearn\\metrics\\_classification.py:1318: UndefinedMetricWarning: Precision and F-score are ill-defined and being set to 0.0 in labels with no predicted samples. Use `zero_division` parameter to control this behavior.\n",
      "  _warn_prf(average, modifier, msg_start, len(result))\n",
      "C:\\Users\\user\\anaconda3\\lib\\site-packages\\sklearn\\metrics\\_classification.py:1318: UndefinedMetricWarning: Precision and F-score are ill-defined and being set to 0.0 in labels with no predicted samples. Use `zero_division` parameter to control this behavior.\n",
      "  _warn_prf(average, modifier, msg_start, len(result))\n"
     ]
    }
   ],
   "source": [
    "from sklearn.metrics import classification_report\n",
    "print (classification_report(y_test, y_pred))"
   ]
  },
  {
   "cell_type": "code",
   "execution_count": null,
   "id": "48ad66bb",
   "metadata": {
    "scrolled": true
   },
   "outputs": [],
   "source": [
    "from matplotlib.colors import ListedColormap\n",
    "X_set, y_set = X_train, y_train\n",
    "X1, X2 = np.meshgrid(np.arange(start = X_set[:, 0].min() - 1, stop = X_set[:, 0].max() + 1, step = 0.01),\n",
    "                     np.arange(start = X_set[:, 1].min() - 1, stop = X_set[:, 1].max() + 1, step = 0.01))\n",
    "plt.contourf(X1, X2, classifier.predict(np.array([X1.ravel(), X2.ravel()]).T).reshape(X1.shape),\n",
    "             alpha = 0, cmap = ListedColormap(('red', 'green')))\n",
    "plt.xlim(X1.min(), X1.max())\n",
    "plt.ylim(X2.min(), X2.max())\n",
    "for i, j in enumerate(np.unique(y_set)):\n",
    "    plt.scatter(X_set[y_set == j, 0], X_set[y_set == j, 1],\n",
    "                c = ListedColormap(('red', 'green'))(i), label = j)\n",
    "plt.title('Naive Bayes (Training set)')\n",
    "plt.xlabel('Age')\n",
    "plt.ylabel('Estimated Salary')\n",
    "plt.legend()\n",
    "plt.show()"
   ]
  },
  {
   "cell_type": "code",
   "execution_count": null,
   "id": "a83d40b3",
   "metadata": {},
   "outputs": [],
   "source": []
  }
 ],
 "metadata": {
  "kernelspec": {
   "display_name": "Python 3 (ipykernel)",
   "language": "python",
   "name": "python3"
  },
  "language_info": {
   "codemirror_mode": {
    "name": "ipython",
    "version": 3
   },
   "file_extension": ".py",
   "mimetype": "text/x-python",
   "name": "python",
   "nbconvert_exporter": "python",
   "pygments_lexer": "ipython3",
   "version": "3.9.13"
  }
 },
 "nbformat": 4,
 "nbformat_minor": 5
}
