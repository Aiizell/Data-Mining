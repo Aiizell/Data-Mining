{
 "cells": [
  {
   "cell_type": "code",
   "execution_count": null,
   "id": "a23b926c",
   "metadata": {},
   "outputs": [],
   "source": [
    "!pip install sklearn"
   ]
  },
  {
   "cell_type": "code",
   "execution_count": 1,
   "id": "29f01a29",
   "metadata": {},
   "outputs": [],
   "source": [
    "import numpy as np\n",
    "import matplotlib.pyplot as plt\n",
    "import pandas as pd\n",
    "from sklearn.impute import SimpleImputer"
   ]
  },
  {
   "cell_type": "code",
   "execution_count": 2,
   "id": "b88f1b7e",
   "metadata": {},
   "outputs": [],
   "source": [
    "dataset = pd.read_csv('water_potability.csv')\n",
    "x = dataset.iloc[:, :-1].values\n",
    "y = dataset.iloc[:, -1].values"
   ]
  },
  {
   "cell_type": "code",
   "execution_count": 3,
   "id": "1922ae75",
   "metadata": {},
   "outputs": [
    {
     "name": "stdout",
     "output_type": "stream",
     "text": [
      "[[           nan 2.04890455e+02 2.07913190e+04 ... 1.03797831e+01\n",
      "  8.69909705e+01 2.96313538e+00]\n",
      " [3.71608008e+00 1.29422921e+02 1.86300579e+04 ... 1.51800131e+01\n",
      "  5.63290763e+01 4.50065627e+00]\n",
      " [8.09912419e+00 2.24236259e+02 1.99095417e+04 ... 1.68686369e+01\n",
      "  6.64200925e+01 3.05593375e+00]\n",
      " ...\n",
      " [9.41951032e+00 1.75762646e+02 3.31555782e+04 ... 1.10390697e+01\n",
      "  6.98454003e+01 3.29887550e+00]\n",
      " [5.12676292e+00 2.30603758e+02 1.19838694e+04 ... 1.11689462e+01\n",
      "  7.74882131e+01 4.70865847e+00]\n",
      " [7.87467136e+00 1.95102299e+02 1.74041771e+04 ... 1.61403676e+01\n",
      "  7.86984463e+01 2.30914906e+00]]\n"
     ]
    }
   ],
   "source": [
    "print(x)"
   ]
  },
  {
   "cell_type": "code",
   "execution_count": 4,
   "id": "4e937755",
   "metadata": {
    "scrolled": true
   },
   "outputs": [
    {
     "name": "stdout",
     "output_type": "stream",
     "text": [
      "[0 0 0 ... 1 1 1]\n"
     ]
    }
   ],
   "source": [
    "print(y)"
   ]
  },
  {
   "cell_type": "code",
   "execution_count": 10,
   "id": "7745de2d",
   "metadata": {},
   "outputs": [],
   "source": [
    "from sklearn.impute import SimpleImputer\n",
    "imputer = SimpleImputer(missing_values=np.NaN, strategy='mean')\n",
    "imputer.fit(x[:, :8])\n",
    "x[:, :8] = imputer.transform(x[:, :8])"
   ]
  },
  {
   "cell_type": "code",
   "execution_count": 11,
   "id": "860c0198",
   "metadata": {},
   "outputs": [
    {
     "name": "stdout",
     "output_type": "stream",
     "text": [
      "[[7.08079450e+00 2.04890455e+02 2.07913190e+04 ... 1.03797831e+01\n",
      "  8.69909705e+01 2.96313538e+00]\n",
      " [3.71608008e+00 1.29422921e+02 1.86300579e+04 ... 1.51800131e+01\n",
      "  5.63290763e+01 4.50065627e+00]\n",
      " [8.09912419e+00 2.24236259e+02 1.99095417e+04 ... 1.68686369e+01\n",
      "  6.64200925e+01 3.05593375e+00]\n",
      " ...\n",
      " [9.41951032e+00 1.75762646e+02 3.31555782e+04 ... 1.10390697e+01\n",
      "  6.98454003e+01 3.29887550e+00]\n",
      " [5.12676292e+00 2.30603758e+02 1.19838694e+04 ... 1.11689462e+01\n",
      "  7.74882131e+01 4.70865847e+00]\n",
      " [7.87467136e+00 1.95102299e+02 1.74041771e+04 ... 1.61403676e+01\n",
      "  7.86984463e+01 2.30914906e+00]]\n"
     ]
    }
   ],
   "source": [
    "print(x)"
   ]
  },
  {
   "cell_type": "code",
   "execution_count": null,
   "id": "0954f392",
   "metadata": {},
   "outputs": [],
   "source": [
    "#mengubah string ke int\n",
    "#from sklearn.compose import ColumnTransformer\n",
    "#from sklearn.preprocessing import OneHotEncoder\n",
    "#ct = ColumnTransformer(transformers=[('encoder', OneHotEncoder(), [0])], remainder='passthrough')\n",
    "#x = np.array(ct.fit_transform(x))"
   ]
  },
  {
   "cell_type": "code",
   "execution_count": null,
   "id": "780a3279",
   "metadata": {},
   "outputs": [],
   "source": [
    "#print(x)"
   ]
  },
  {
   "cell_type": "code",
   "execution_count": 12,
   "id": "001490b3",
   "metadata": {},
   "outputs": [],
   "source": [
    "from sklearn.model_selection import train_test_split\n",
    "x_train, x_test, y_train, y_test = train_test_split(x, y, test_size=0.2, random_state=1)"
   ]
  },
  {
   "cell_type": "code",
   "execution_count": 13,
   "id": "bd72c52d",
   "metadata": {},
   "outputs": [
    {
     "name": "stdout",
     "output_type": "stream",
     "text": [
      "[[8.97782188e+00 1.98996287e+02 2.02256429e+04 ... 1.96219234e+01\n",
      "  6.41772322e+01 3.19999961e+00]\n",
      " [7.93739220e+00 1.70445328e+02 6.62637643e+03 ... 2.31359521e+01\n",
      "  7.37862115e+01 4.27085115e+00]\n",
      " [5.14913329e+00 1.98332440e+02 1.67953187e+04 ... 1.25108867e+01\n",
      "  6.63763740e+01 4.83917616e+00]\n",
      " ...\n",
      " [7.08079450e+00 1.42145566e+02 4.51416860e+04 ... 2.06055521e+01\n",
      "  7.01683892e+01 4.60472480e+00]\n",
      " [4.81413562e+00 2.05214041e+02 1.76504050e+04 ... 1.09994161e+01\n",
      "  4.74026659e+01 5.19085180e+00]\n",
      " [7.08079450e+00 1.82161880e+02 3.06468153e+04 ... 1.47122846e+01\n",
      "  1.06371720e+02 3.85577296e+00]]\n"
     ]
    }
   ],
   "source": [
    "print(x_train)"
   ]
  },
  {
   "cell_type": "code",
   "execution_count": 14,
   "id": "ff93f18d",
   "metadata": {},
   "outputs": [
    {
     "name": "stdout",
     "output_type": "stream",
     "text": [
      "[[6.06335479e+00 1.60767311e+02 1.47751456e+04 ... 1.23090160e+01\n",
      "  6.90384539e+01 3.46733691e+00]\n",
      " [7.08079450e+00 2.33020134e+02 2.70711186e+04 ... 1.67689452e+01\n",
      "  5.12844005e+01 4.28487863e+00]\n",
      " [9.25285651e+00 1.68040751e+02 5.02792624e+04 ... 1.19498538e+01\n",
      "  6.22568813e+01 3.30058583e+00]\n",
      " ...\n",
      " [5.98659389e+00 2.75886513e+02 2.12290833e+04 ... 1.17833832e+01\n",
      "  9.22277329e+01 5.05149387e+00]\n",
      " [7.08079450e+00 2.23720430e+02 1.58936744e+04 ... 1.52342772e+01\n",
      "  4.81955718e+01 4.15792730e+00]\n",
      " [7.60212147e+00 1.99353166e+02 1.13461435e+04 ... 1.79257824e+01\n",
      "  6.28466726e+01 3.69887477e+00]]\n"
     ]
    }
   ],
   "source": [
    "print(x_test)"
   ]
  },
  {
   "cell_type": "code",
   "execution_count": 15,
   "id": "105fcfab",
   "metadata": {},
   "outputs": [
    {
     "name": "stdout",
     "output_type": "stream",
     "text": [
      "[1 0 0 ... 1 0 0]\n"
     ]
    }
   ],
   "source": [
    "print(y_train)"
   ]
  },
  {
   "cell_type": "code",
   "execution_count": 16,
   "id": "7b133e5e",
   "metadata": {},
   "outputs": [
    {
     "name": "stdout",
     "output_type": "stream",
     "text": [
      "[0 0 0 0 1 0 1 0 1 0 1 1 1 0 0 1 0 0 0 0 1 0 0 0 0 0 0 1 0 1 1 1 0 0 0 1 1\n",
      " 1 1 0 0 1 1 0 0 0 0 0 1 0 1 0 0 0 0 1 1 0 1 1 1 0 1 0 1 0 0 1 1 1 0 0 1 0\n",
      " 0 1 0 1 0 1 1 0 1 0 0 1 0 0 0 0 1 1 0 0 1 1 0 1 0 0 1 1 0 1 1 0 0 1 0 1 0\n",
      " 1 0 0 1 0 0 0 1 0 1 1 0 0 0 0 0 0 1 1 1 1 0 0 0 0 0 0 1 1 0 0 1 1 1 1 0 1\n",
      " 0 1 1 1 1 1 0 0 1 1 1 1 0 0 1 1 1 1 1 0 0 1 0 0 1 0 0 0 0 1 1 1 0 0 0 0 0\n",
      " 1 1 1 0 1 1 1 0 1 0 0 0 1 1 0 1 1 1 0 1 1 0 0 1 0 0 0 1 1 0 1 0 0 1 0 0 0\n",
      " 0 1 1 0 0 1 0 0 0 1 1 0 0 1 0 0 0 0 1 0 1 0 1 0 0 1 0 1 1 0 1 0 1 0 0 1 0\n",
      " 1 0 0 0 0 1 0 0 0 0 1 0 1 1 0 0 0 0 0 1 0 1 0 0 0 0 0 0 0 0 0 1 0 0 0 1 0\n",
      " 0 0 1 0 1 1 0 1 1 0 0 1 1 0 0 1 1 0 0 0 0 1 1 0 1 0 0 1 0 0 1 1 1 0 0 1 0\n",
      " 0 1 0 1 1 0 1 1 1 0 1 1 0 0 0 0 1 0 1 0 1 0 1 1 0 1 0 0 1 0 1 0 1 1 0 1 0\n",
      " 1 1 0 1 1 0 0 1 0 0 0 0 0 0 0 1 1 1 0 1 0 0 0 0 0 0 1 0 0 0 0 0 1 1 0 1 1\n",
      " 0 0 0 1 1 1 0 0 0 1 0 1 1 1 1 0 0 1 0 1 0 0 0 1 0 0 0 0 1 0 0 0 0 0 0 0 1\n",
      " 1 1 1 0 1 1 1 0 0 0 1 1 0 0 1 0 1 0 1 0 1 1 0 1 0 0 0 0 0 1 0 0 0 1 1 0 0\n",
      " 0 0 1 1 0 0 0 1 1 1 0 0 1 1 1 1 0 1 1 1 0 0 1 0 1 1 0 0 0 0 0 1 1 1 1 1 0\n",
      " 0 1 1 1 0 0 0 0 0 0 0 1 1 0 0 1 0 0 0 0 0 0 1 0 1 0 1 0 1 1 1 1 0 0 1 1 0\n",
      " 1 0 0 0 0 1 0 1 0 0 0 1 0 0 1 1 0 0 0 1 1 0 0 0 0 1 0 1 0 0 0 0 0 0 1 0 1\n",
      " 1 0 0 1 1 0 1 1 0 1 0 0 0 0 0 0 1 0 1 1 0 0 0 0 1 1 0 1 0 1 0 1 0 1 1 0 0\n",
      " 0 0 0 0 0 1 1 0 1 1 1 1 1 1 0 1 1 0 1 0 1 1 1 0 0 0 0]\n"
     ]
    }
   ],
   "source": [
    "print(y_test)"
   ]
  },
  {
   "cell_type": "code",
   "execution_count": 17,
   "id": "b46aa1f6",
   "metadata": {},
   "outputs": [],
   "source": [
    "from sklearn.preprocessing import StandardScaler\n",
    "sc = StandardScaler()\n",
    "x_train[:, 3:] = sc.fit_transform(x_train[:, 3:])\n",
    "x_test[:, 3:] = sc.transform(x_test[:, 3:])"
   ]
  },
  {
   "cell_type": "code",
   "execution_count": 18,
   "id": "401a3cd9",
   "metadata": {},
   "outputs": [
    {
     "name": "stdout",
     "output_type": "stream",
     "text": [
      "[[ 8.97782188e+00  1.98996287e+02  2.02256429e+04 ...  1.61190672e+00\n",
      "  -1.46691203e-01 -9.90181923e-01]\n",
      " [ 7.93739220e+00  1.70445328e+02  6.62637643e+03 ...  2.67703458e+00\n",
      "   4.68891552e-01  3.93742705e-01]\n",
      " [ 5.14913329e+00  1.98332440e+02  1.67953187e+04 ... -5.43500602e-01\n",
      "  -5.80696429e-03  1.12822265e+00]\n",
      " ...\n",
      " [ 7.08079450e+00  1.42145566e+02  4.51416860e+04 ...  1.91005178e+00\n",
      "   2.37121981e-01  8.25227318e-01]\n",
      " [ 4.81413562e+00  2.05214041e+02  1.76504050e+04 ... -1.00163841e+00\n",
      "  -1.22132499e+00  1.58271384e+00]\n",
      " [ 7.08079450e+00  1.82161880e+02  3.06468153e+04 ...  1.23759249e-01\n",
      "   2.55642618e+00 -1.42687328e-01]]\n"
     ]
    }
   ],
   "source": [
    "print(x_train)"
   ]
  },
  {
   "cell_type": "code",
   "execution_count": 19,
   "id": "b5de4eb9",
   "metadata": {},
   "outputs": [
    {
     "name": "stdout",
     "output_type": "stream",
     "text": [
      "[[ 6.06335479e+00  1.60767311e+02  1.47751456e+04 ... -6.04689090e-01\n",
      "   1.64734613e-01 -6.44686155e-01]\n",
      " [ 7.08079450e+00  2.33020134e+02  2.70711186e+04 ...  7.47148131e-01\n",
      "  -9.72648328e-01  4.11871244e-01]\n",
      " [ 9.25285651e+00  1.68040751e+02  5.02792624e+04 ... -7.13553757e-01\n",
      "  -2.69715190e-01 -8.60188426e-01]\n",
      " ...\n",
      " [ 5.98659389e+00  2.75886513e+02  2.12290833e+04 ... -7.64012242e-01\n",
      "   1.65031595e+00  1.40261336e+00]\n",
      " [ 7.08079450e+00  2.23720430e+02  1.58936744e+04 ...  2.81979010e-01\n",
      "  -1.17052883e+00  2.47804548e-01]\n",
      " [ 7.60212147e+00  1.99353166e+02  1.13461435e+04 ...  1.09779396e+00\n",
      "  -2.31931219e-01 -3.45456124e-01]]\n"
     ]
    }
   ],
   "source": [
    "print(x_test)"
   ]
  },
  {
   "cell_type": "code",
   "execution_count": null,
   "id": "e00e54a7",
   "metadata": {},
   "outputs": [],
   "source": []
  }
 ],
 "metadata": {
  "kernelspec": {
   "display_name": "Python 3 (ipykernel)",
   "language": "python",
   "name": "python3"
  },
  "language_info": {
   "codemirror_mode": {
    "name": "ipython",
    "version": 3
   },
   "file_extension": ".py",
   "mimetype": "text/x-python",
   "name": "python",
   "nbconvert_exporter": "python",
   "pygments_lexer": "ipython3",
   "version": "3.9.13"
  }
 },
 "nbformat": 4,
 "nbformat_minor": 5
}
